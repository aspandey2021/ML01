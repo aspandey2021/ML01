{
 "cells": [
  {
   "cell_type": "markdown",
   "id": "specific-honolulu",
   "metadata": {},
   "source": [
    "### Sentiment Analysis - TripAdvisor Reviews\n",
    "\n",
    "### Objective: ###\n",
    "#### The objective of the current analysis is to use Deep Learning - RNN and LSTM Models to evaluate the sentiments in the hotel reviews of Tripadvisor as either 'positive' or 'negative' #### \n",
    "\n",
    "### Context : \n",
    "#### Hotels play a crucial role in traveling and with the increased access to information new pathways of selecting the best ones emerged. With this dataset, consisting of 20k reviews crawled from Tripadvisor, one can explore what makes a great hotel and maybe even use this model in one's travels! ####\n",
    "This dataset contains 20491 reviews of different Hotel stays extracted from Tripadvisor portal. Reviews are rated from '1' till '5', with 5 being the most positive rating. For the ease of analysis, ratings __'1' and '2' would be considered as negative and '5' as positive and the ratings '3' and '4' won't be considered for the analysis__. \n",
    "\n",
    "#### Citation: Alam, M. H., Ryu, W.-J., Lee, S., 2016. Joint multi-grain topic sentiment: modeling semantic aspects for online reviews. Information Sciences 339, 206–223. https://zenodo.org/record/1219899#.YLSig6gzZPY ####"
   ]
  },
  {
   "cell_type": "markdown",
   "id": "perceived-biotechnology",
   "metadata": {},
   "source": [
    "### Importing the necessary libraries"
   ]
  },
  {
   "cell_type": "code",
   "execution_count": 1,
   "id": "proprietary-african",
   "metadata": {},
   "outputs": [],
   "source": [
    "import numpy as np, os\n",
    "import pandas as pd\n",
    "from scipy import stats\n",
    "import seaborn as sns\n",
    "import matplotlib.pyplot as plt\n",
    "from numpy import math\n",
    "\n",
    "import re\n",
    "import nltk\n",
    "from nltk.corpus import stopwords\n",
    "from nltk.stem.porter import PorterStemmer\n",
    "from nltk.stem.wordnet import WordNetLemmatizer\n",
    "\n",
    "import matplotlib.pyplot as plt\n",
    "from wordcloud import WordCloud\n",
    "\n",
    "from sklearn.linear_model import *\n",
    "from sklearn.tree import DecisionTreeClassifier\n",
    "from sklearn.neighbors import KNeighborsClassifier\n",
    "from sklearn.naive_bayes import GaussianNB,BernoulliNB,MultinomialNB\n",
    "from sklearn.ensemble import RandomForestClassifier\n",
    "\n",
    "from sklearn.feature_extraction.text import CountVectorizer\n",
    "from sklearn.model_selection import train_test_split, StratifiedShuffleSplit\n",
    "from sklearn.metrics import precision_recall_fscore_support as score\n",
    "from sklearn.metrics import classification_report, accuracy_score, precision_score, recall_score\n",
    "from sklearn.metrics import f1_score, roc_auc_score, confusion_matrix"
   ]
  },
  {
   "cell_type": "code",
   "execution_count": 2,
   "id": "decimal-opera",
   "metadata": {},
   "outputs": [],
   "source": [
    "from tensorflow import keras\n",
    "from tensorflow.keras.preprocessing import sequence\n",
    "from tensorflow.keras.models import Sequential\n",
    "from tensorflow.keras.layers import Dense, Embedding\n",
    "from tensorflow.keras.layers import SimpleRNN, LSTM, Dropout\n",
    "from tensorflow.keras.datasets import imdb\n",
    "from tensorflow.keras import initializers\n",
    "from tensorflow.keras.preprocessing.text import Tokenizer\n",
    "from tensorflow.keras.preprocessing.sequence import pad_sequences"
   ]
  },
  {
   "cell_type": "code",
   "execution_count": 3,
   "id": "premium-significance",
   "metadata": {},
   "outputs": [],
   "source": [
    "import warnings\n",
    "warnings.filterwarnings(\"ignore\", category=UserWarning)\n",
    "warnings.filterwarnings(\"ignore\", category=RuntimeWarning)"
   ]
  },
  {
   "cell_type": "markdown",
   "id": "electoral-longitude",
   "metadata": {},
   "source": [
    "### Reading the data"
   ]
  },
  {
   "cell_type": "code",
   "execution_count": 4,
   "id": "iraqi-outreach",
   "metadata": {},
   "outputs": [
    {
     "data": {
      "text/html": [
       "<div>\n",
       "<style scoped>\n",
       "    .dataframe tbody tr th:only-of-type {\n",
       "        vertical-align: middle;\n",
       "    }\n",
       "\n",
       "    .dataframe tbody tr th {\n",
       "        vertical-align: top;\n",
       "    }\n",
       "\n",
       "    .dataframe thead th {\n",
       "        text-align: right;\n",
       "    }\n",
       "</style>\n",
       "<table border=\"1\" class=\"dataframe\">\n",
       "  <thead>\n",
       "    <tr style=\"text-align: right;\">\n",
       "      <th></th>\n",
       "      <th>Review</th>\n",
       "      <th>Rating</th>\n",
       "    </tr>\n",
       "  </thead>\n",
       "  <tbody>\n",
       "    <tr>\n",
       "      <th>0</th>\n",
       "      <td>nice hotel expensive parking got good deal sta...</td>\n",
       "      <td>4</td>\n",
       "    </tr>\n",
       "    <tr>\n",
       "      <th>1</th>\n",
       "      <td>ok nothing special charge diamond member hilto...</td>\n",
       "      <td>2</td>\n",
       "    </tr>\n",
       "    <tr>\n",
       "      <th>2</th>\n",
       "      <td>nice rooms not 4* experience hotel monaco seat...</td>\n",
       "      <td>3</td>\n",
       "    </tr>\n",
       "    <tr>\n",
       "      <th>3</th>\n",
       "      <td>unique, great stay, wonderful time hotel monac...</td>\n",
       "      <td>5</td>\n",
       "    </tr>\n",
       "    <tr>\n",
       "      <th>4</th>\n",
       "      <td>great stay great stay, went seahawk game aweso...</td>\n",
       "      <td>5</td>\n",
       "    </tr>\n",
       "  </tbody>\n",
       "</table>\n",
       "</div>"
      ],
      "text/plain": [
       "                                              Review  Rating\n",
       "0  nice hotel expensive parking got good deal sta...       4\n",
       "1  ok nothing special charge diamond member hilto...       2\n",
       "2  nice rooms not 4* experience hotel monaco seat...       3\n",
       "3  unique, great stay, wonderful time hotel monac...       5\n",
       "4  great stay great stay, went seahawk game aweso...       5"
      ]
     },
     "execution_count": 4,
     "metadata": {},
     "output_type": "execute_result"
    }
   ],
   "source": [
    "data = pd.read_csv('tripadvisor_hotel_reviews.csv')\n",
    "data.head()"
   ]
  },
  {
   "cell_type": "markdown",
   "id": "unable-shade",
   "metadata": {},
   "source": [
    "#### Let's check out randomly Review number 10"
   ]
  },
  {
   "cell_type": "code",
   "execution_count": 5,
   "id": "emerging-kruger",
   "metadata": {},
   "outputs": [
    {
     "name": "stdout",
     "output_type": "stream",
     "text": [
      "Rating : 2.\n",
      "Review : poor value stayed monaco seattle july, nice hotel priced 100- 150 night not, hotel takes beating quotient, experience simply average, nothing exceptional paying 300+ n't ca n't terribly disappointed, wife stayed nicest suites 200/night felt like overpaying, best advice shop, quality-wise league average marriott nice best western,  \n"
     ]
    }
   ],
   "source": [
    "print('Rating : {}.\\nReview : {}'.format(data['Rating'][10],data['Review'][10]))"
   ]
  },
  {
   "cell_type": "markdown",
   "id": "ideal-vegetation",
   "metadata": {},
   "source": [
    "> This shows a rating of '2' or a negative sentiment"
   ]
  },
  {
   "cell_type": "code",
   "execution_count": 6,
   "id": "funky-tract",
   "metadata": {},
   "outputs": [
    {
     "data": {
      "text/plain": [
       "(20491, 2)"
      ]
     },
     "execution_count": 6,
     "metadata": {},
     "output_type": "execute_result"
    }
   ],
   "source": [
    "data.shape"
   ]
  },
  {
   "cell_type": "code",
   "execution_count": 7,
   "id": "advised-gardening",
   "metadata": {},
   "outputs": [
    {
     "data": {
      "text/plain": [
       "5    9054\n",
       "4    6039\n",
       "3    2184\n",
       "2    1793\n",
       "1    1421\n",
       "Name: Rating, dtype: int64"
      ]
     },
     "execution_count": 7,
     "metadata": {},
     "output_type": "execute_result"
    }
   ],
   "source": [
    "data['Rating'].value_counts()"
   ]
  },
  {
   "cell_type": "markdown",
   "id": "operating-award",
   "metadata": {},
   "source": [
    "### Data Preprocessing\n",
    "\n",
    "Since the Dataset is pretty huge with 20491 reviews, for the analysis I will take a smaller sample with only 5000 reviews.   \n",
    "Rating __'5'__ will be considered as __positive__ and ratings __'1' & '2'__ would be considered as __negative__ reviews.   \n",
    "So firstly, the rows with ratings '4' and '5' will be removed."
   ]
  },
  {
   "cell_type": "code",
   "execution_count": 8,
   "id": "composite-belle",
   "metadata": {},
   "outputs": [],
   "source": [
    "dataxy = data[(data.Rating==1) | (data.Rating==2) | (data.Rating==5)]"
   ]
  },
  {
   "cell_type": "code",
   "execution_count": 9,
   "id": "capable-ratio",
   "metadata": {},
   "outputs": [
    {
     "data": {
      "text/plain": [
       "5    9054\n",
       "2    1793\n",
       "1    1421\n",
       "Name: Rating, dtype: int64"
      ]
     },
     "execution_count": 9,
     "metadata": {},
     "output_type": "execute_result"
    }
   ],
   "source": [
    "dataxy['Rating'].value_counts()"
   ]
  },
  {
   "cell_type": "markdown",
   "id": "developed-dryer",
   "metadata": {},
   "source": [
    "Now out of these observations, a random selection of 5000 reviews would be done for the analysis. It would be ensured that the resulting smaller sample is not highly imbalanced (i.e ratio of ratings '1' + '2' combined to rating '5' should not be less than 1:10).    \n",
    "\n",
    "For this, the __random integer generator__ from Numpy would be used."
   ]
  },
  {
   "cell_type": "code",
   "execution_count": 10,
   "id": "atomic-submission",
   "metadata": {},
   "outputs": [
    {
     "data": {
      "text/html": [
       "<div>\n",
       "<style scoped>\n",
       "    .dataframe tbody tr th:only-of-type {\n",
       "        vertical-align: middle;\n",
       "    }\n",
       "\n",
       "    .dataframe tbody tr th {\n",
       "        vertical-align: top;\n",
       "    }\n",
       "\n",
       "    .dataframe thead th {\n",
       "        text-align: right;\n",
       "    }\n",
       "</style>\n",
       "<table border=\"1\" class=\"dataframe\">\n",
       "  <thead>\n",
       "    <tr style=\"text-align: right;\">\n",
       "      <th></th>\n",
       "      <th>Review</th>\n",
       "      <th>Rating</th>\n",
       "    </tr>\n",
       "  </thead>\n",
       "  <tbody>\n",
       "    <tr>\n",
       "      <th>0</th>\n",
       "      <td>ok nothing special charge diamond member hilto...</td>\n",
       "      <td>2</td>\n",
       "    </tr>\n",
       "    <tr>\n",
       "      <th>1</th>\n",
       "      <td>unique, great stay, wonderful time hotel monac...</td>\n",
       "      <td>5</td>\n",
       "    </tr>\n",
       "    <tr>\n",
       "      <th>2</th>\n",
       "      <td>great stay great stay, went seahawk game aweso...</td>\n",
       "      <td>5</td>\n",
       "    </tr>\n",
       "    <tr>\n",
       "      <th>3</th>\n",
       "      <td>love monaco staff husband stayed hotel crazy w...</td>\n",
       "      <td>5</td>\n",
       "    </tr>\n",
       "    <tr>\n",
       "      <th>4</th>\n",
       "      <td>cozy stay rainy city, husband spent 7 nights m...</td>\n",
       "      <td>5</td>\n",
       "    </tr>\n",
       "  </tbody>\n",
       "</table>\n",
       "</div>"
      ],
      "text/plain": [
       "                                              Review  Rating\n",
       "0  ok nothing special charge diamond member hilto...       2\n",
       "1  unique, great stay, wonderful time hotel monac...       5\n",
       "2  great stay great stay, went seahawk game aweso...       5\n",
       "3  love monaco staff husband stayed hotel crazy w...       5\n",
       "4  cozy stay rainy city, husband spent 7 nights m...       5"
      ]
     },
     "execution_count": 10,
     "metadata": {},
     "output_type": "execute_result"
    }
   ],
   "source": [
    "dataxy.reset_index(drop=True,inplace=True)\n",
    "dataxy.head()"
   ]
  },
  {
   "cell_type": "code",
   "execution_count": 11,
   "id": "dying-print",
   "metadata": {},
   "outputs": [],
   "source": [
    "# Function to randomly select 5000 reviews from the smaller Dataframe\n",
    "def rand_splitdf(dataframe):\n",
    "    obs = dataframe.shape[0] # number of rows in the DF\n",
    "    rng = np.random.default_rng(seed=42)  # random number generator object\n",
    "    rints = rng.integers(low=0, high=obs, size=5000) # generating 5000 random indexes between 0 and highest row in the DF\n",
    "    print('The random indexes generated are {}'.format(rints))\n",
    "    dataf = dataframe.iloc[rints]   # create a DF based on the random indexes \n",
    "    print('The distribution of ratings after compressing the DF : \\n{}'.format(dataf['Rating'].value_counts()))\n",
    "    return dataf    "
   ]
  },
  {
   "cell_type": "code",
   "execution_count": 12,
   "id": "dramatic-thermal",
   "metadata": {},
   "outputs": [
    {
     "name": "stdout",
     "output_type": "stream",
     "text": [
      "The random indexes generated are [ 1094  9494  8030 ... 10053  8324  6116]\n",
      "The distribution of ratings after compressing the DF : \n",
      "5    3657\n",
      "2     730\n",
      "1     613\n",
      "Name: Rating, dtype: int64\n"
     ]
    }
   ],
   "source": [
    "dataf = rand_splitdf(dataxy)"
   ]
  },
  {
   "cell_type": "code",
   "execution_count": 13,
   "id": "gross-purchase",
   "metadata": {},
   "outputs": [
    {
     "data": {
      "text/plain": [
       "(5000, 2)"
      ]
     },
     "execution_count": 13,
     "metadata": {},
     "output_type": "execute_result"
    }
   ],
   "source": [
    "dataf.shape"
   ]
  },
  {
   "cell_type": "markdown",
   "id": "surgical-affairs",
   "metadata": {},
   "source": [
    "Renaming the positive ratings as '1' and negative as '0'"
   ]
  },
  {
   "cell_type": "code",
   "execution_count": 14,
   "id": "fundamental-pierre",
   "metadata": {
    "scrolled": true
   },
   "outputs": [
    {
     "name": "stderr",
     "output_type": "stream",
     "text": [
      "C:\\Users\\ashis\\Installed\\Anaconda3\\envs\\tensorflow\\lib\\site-packages\\pandas\\core\\indexing.py:1676: SettingWithCopyWarning: \n",
      "A value is trying to be set on a copy of a slice from a DataFrame.\n",
      "Try using .loc[row_indexer,col_indexer] = value instead\n",
      "\n",
      "See the caveats in the documentation: https://pandas.pydata.org/pandas-docs/stable/user_guide/indexing.html#returning-a-view-versus-a-copy\n",
      "  self._setitem_single_column(ilocs[0], value, pi)\n"
     ]
    },
    {
     "data": {
      "text/plain": [
       "1    3657\n",
       "0    1343\n",
       "Name: Rating, dtype: int64"
      ]
     },
     "execution_count": 14,
     "metadata": {},
     "output_type": "execute_result"
    }
   ],
   "source": [
    "dataf.loc[:,'Rating'] = [1 if x>4 else 0 for x in dataf.loc[:,'Rating']]\n",
    "dataf['Rating'].value_counts()"
   ]
  },
  {
   "cell_type": "markdown",
   "id": "polyphonic-quarter",
   "metadata": {},
   "source": [
    "### Recurrent Neural Networks"
   ]
  },
  {
   "cell_type": "markdown",
   "id": "vocal-burden",
   "metadata": {},
   "source": [
    "Here the text in the reviews would be filtered for special characters, numbers etc. and the words would be converted to smaller case for ease of use"
   ]
  },
  {
   "cell_type": "code",
   "execution_count": 15,
   "id": "coastal-twins",
   "metadata": {},
   "outputs": [],
   "source": [
    "x,y = (dataf['Review'].values, dataf['Rating'].values)"
   ]
  },
  {
   "cell_type": "code",
   "execution_count": 16,
   "id": "criminal-source",
   "metadata": {},
   "outputs": [],
   "source": [
    "filters='!\"#$%&()*+,-./:;<=>?@[\\\\]^_`{|}~\\t\\n'\n",
    "maxlen = 150  # maximum input length of a text sequence - truncate after this\n",
    "batch_size = 32"
   ]
  },
  {
   "cell_type": "markdown",
   "id": "finished-stack",
   "metadata": {},
   "source": [
    "#### Tokenizer:\n",
    "Tokenizer would embed the individual words into integer arrays. Padding would ensure that the length of the arrays stays upto a max. length of maxlen. Longer arrays would be truncated and shorter ones would be padded with zeros '0'. "
   ]
  },
  {
   "cell_type": "code",
   "execution_count": 17,
   "id": "bigger-determination",
   "metadata": {},
   "outputs": [],
   "source": [
    "tk = Tokenizer(lower = True, filters = filters)\n",
    "tk.fit_on_texts(x)\n",
    "x_seq = tk.texts_to_sequences(x)\n",
    "x_pad = pad_sequences(x_seq, maxlen=maxlen, padding='post')"
   ]
  },
  {
   "cell_type": "code",
   "execution_count": 18,
   "id": "specialized-naples",
   "metadata": {},
   "outputs": [
    {
     "name": "stdout",
     "output_type": "stream",
     "text": [
      "Review 5 : \n",
      "loved loved loved, stayed hotel 17 20 march loved minute, definately nicest hotel stayed, lobby/reception/bar area gorgeous, roof deck fantastic chill area bit windy try roof pool, did spend couple hours basement spa pool wonderful, booked classic room listed having inner atrium courtyard view shown room 606 6th floor actually outside view overlooking private terraces rooms, n't bad view means expecting inside room outside view able sun bonus.the room lovely clean king size bed minibar prices reasonable kettle bathrobe slippers, pre-ordered bottle cava brought room delivered 5 mins shown room, did minutes work shower worked day realised aircon control cupboard, room stiffling hot thought aircon not working, called recepton door 2 minutes work aircon unit.the breakfast divine chose n't able justify paying 18 euros thankfully incuded rate paid room.our real critisism cost drinks bar, yes expect expensive 25 euros 2 glasses sangria bit steep did n't order drinks bar, distict lack english tv channels, dont wrong n't watch tv couple nights shattered walking did nice chill room dinner watch film.other not fault hotel barcelona definately stay,  \n",
      "\n",
      "Review 5 after Mapping: \n",
      "[ 2004   335    29    46    60  1741     2  2593   204  4173  3954   611\n",
      "    50  1635     2  8390  2056    54   303   151    50   570   459  5407\n",
      "    11     5    98    50   860  1141   615     2   151    50   230   460\n",
      "  1132    26     2    89    24   347   186    53  1207   390   559  3634\n",
      "  4697  1349  1133   742   433  3121   443     2   968    40   512  1635\n",
      "     2     9    77   152   118   409    19  2594  2406  1416  3635     2\n",
      " 14009   164   191  2406     3   407   211 14010    96    33    77   152\n",
      "  2406  1431    26    21  4997   498     5   230  5408   660   980   363\n",
      "  2745 14011   208   267     2   793   312 10228   334   127    41   301\n",
      "   255   177   675   363    33  1502 10229    95  1688     9     5   424\n",
      "   127    41 14012   769   173   212  1252   451   533     5   523   212\n",
      "   190    56  8391   120     9    15  2743     2   105   523  5871  2143\n",
      "     3   680     1   257   565     7]\n"
     ]
    }
   ],
   "source": [
    "print(\"Review 5 : \\n{}\\n\".format(x[5]))\n",
    "print(\"Review 5 after Mapping: \\n{}\".format(x_pad[5]))"
   ]
  },
  {
   "cell_type": "markdown",
   "id": "promising-performer",
   "metadata": {},
   "source": [
    "### Stratified Shuffle Split\n",
    "Here 25% of the data would be split into the test set and rest for training."
   ]
  },
  {
   "cell_type": "code",
   "execution_count": 19,
   "id": "latest-peoples",
   "metadata": {},
   "outputs": [
    {
     "name": "stdout",
     "output_type": "stream",
     "text": [
      "Shape of x_train is : (3750, 150)\n",
      "Shape of y_test is : (1250,)\n"
     ]
    }
   ],
   "source": [
    "sss = StratifiedShuffleSplit(n_splits=1, test_size=0.25, random_state=42)\n",
    "train_index, test_index = next(sss.split(x_pad, y))\n",
    "x_train, x_test = x_pad[train_index], x_pad[test_index]\n",
    "y_train, y_test = y[train_index], y[test_index]\n",
    "print('Shape of x_train is : {}'.format(x_train.shape))\n",
    "print('Shape of y_test is : {}'.format(y_test.shape))"
   ]
  },
  {
   "cell_type": "markdown",
   "id": "talented-harris",
   "metadata": {},
   "source": [
    "### User-defined functions"
   ]
  },
  {
   "cell_type": "code",
   "execution_count": 20,
   "id": "continued-miami",
   "metadata": {},
   "outputs": [],
   "source": [
    "scores_ = pd.DataFrame(columns=['Model','Precision','Recall','ROC-AUC score']) # store the scores of each model\n",
    "row = 0\n",
    "models_ = [] # store models\n",
    "target_names = ['negative','positive']"
   ]
  },
  {
   "cell_type": "code",
   "execution_count": 21,
   "id": "empirical-milwaukee",
   "metadata": {},
   "outputs": [],
   "source": [
    "# Function to calculate the metrics\n",
    "def calc_scores(name,model):\n",
    "    global row\n",
    "    y_pred = (model.predict(x_test) > 0.5).astype(\"int32\")\n",
    "    y_prob = (model.predict_proba(x_test))\n",
    "    print(name,':\\n')\n",
    "    print(classification_report(y_test, y_pred))\n",
    "    precision, recall, fscore, _ = score(y_test, y_pred, average='weighted')\n",
    "    roc_ = roc_auc_score(y_test, y_prob,average='weighted')\n",
    "    accuracy = accuracy_score(y_test, y_pred)\n",
    "    print('Precision : {:.3f}'.format(precision))\n",
    "    print('Recall : {:.3f}'.format(recall))\n",
    "    print('ROC-AUC score : {:.3f}'.format(roc_))\n",
    "    print('Accuracy : {:.3f}'.format(accuracy))\n",
    "    scores_.loc[row,'Model'] = name\n",
    "    scores_.loc[row,'Precision'] = round(precision,4)\n",
    "    scores_.loc[row,'Recall'] = round(recall,4)\n",
    "    scores_.loc[row,'ROC-AUC score'] = round(roc_,4)\n",
    "    scores_.loc[row,'Accuracy'] = round(accuracy,4)\n",
    "    row+= 1\n",
    "    models_.append({name:model})\n",
    "    \n",
    "    # Confusion Matrix\n",
    "    cm = confusion_matrix(y_test,y_pred)\n",
    "    sns.heatmap(cm,annot=True, fmt='d');"
   ]
  },
  {
   "cell_type": "markdown",
   "id": "going-lightning",
   "metadata": {},
   "source": [
    "### Model 1 : Simple RNN\n",
    "First Model would be a simple RNN with 5 Hidden Layers. Vocabulary size would be the default words stored in the Tokenizer object of Keras.     \n",
    "Embedding size = maxlen."
   ]
  },
  {
   "cell_type": "code",
   "execution_count": 22,
   "id": "independent-embassy",
   "metadata": {},
   "outputs": [],
   "source": [
    "rnn_hidden_dim = 5\n",
    "vocab_size = len(tk.word_counts.keys())+1\n",
    "model_rnn1 = Sequential()\n",
    "model_rnn1.add(Embedding(vocab_size,maxlen)) #This layer takes each integer in the sequence and embeds it in a 150-dimensional vector\n",
    "model_rnn1.add(SimpleRNN(rnn_hidden_dim,\n",
    "                       kernel_initializer=initializers.RandomNormal(stddev = 0.001),\n",
    "                        recurrent_initializer=initializers.Identity(gain = 1.0),\n",
    "                       activation='relu',\n",
    "                       input_shape= x_train.shape[1:]))\n",
    "\n",
    "model_rnn1.add(Dense(1, activation='sigmoid'))"
   ]
  },
  {
   "cell_type": "code",
   "execution_count": 23,
   "id": "involved-thesis",
   "metadata": {},
   "outputs": [
    {
     "data": {
      "text/plain": [
       "22998"
      ]
     },
     "execution_count": 23,
     "metadata": {},
     "output_type": "execute_result"
    }
   ],
   "source": [
    "# Number of default features in Tokenizer in Keras\n",
    "len(tk.word_counts.keys())+1"
   ]
  },
  {
   "cell_type": "code",
   "execution_count": 24,
   "id": "placed-montana",
   "metadata": {},
   "outputs": [
    {
     "name": "stdout",
     "output_type": "stream",
     "text": [
      "Model: \"sequential\"\n",
      "_________________________________________________________________\n",
      "Layer (type)                 Output Shape              Param #   \n",
      "=================================================================\n",
      "embedding (Embedding)        (None, None, 150)         3449700   \n",
      "_________________________________________________________________\n",
      "simple_rnn (SimpleRNN)       (None, 5)                 780       \n",
      "_________________________________________________________________\n",
      "dense (Dense)                (None, 1)                 6         \n",
      "=================================================================\n",
      "Total params: 3,450,486\n",
      "Trainable params: 3,450,486\n",
      "Non-trainable params: 0\n",
      "_________________________________________________________________\n"
     ]
    }
   ],
   "source": [
    "model_rnn1.summary()"
   ]
  },
  {
   "cell_type": "code",
   "execution_count": 25,
   "id": "economic-greensboro",
   "metadata": {},
   "outputs": [],
   "source": [
    "rmsprop = keras.optimizers.RMSprop(lr = 0.0001)\n",
    "model_rnn1.compile(loss='binary_crossentropy',\n",
    "                 optimizer=rmsprop,\n",
    "                 metrics=['accuracy'])"
   ]
  },
  {
   "cell_type": "code",
   "execution_count": 26,
   "id": "spectacular-homeless",
   "metadata": {},
   "outputs": [
    {
     "name": "stdout",
     "output_type": "stream",
     "text": [
      "Epoch 1/10\n",
      "118/118 [==============================] - 4s 32ms/step - loss: 0.5504 - accuracy: 0.7296 - val_loss: 0.4460 - val_accuracy: 0.7512\n",
      "Epoch 2/10\n",
      "118/118 [==============================] - 4s 31ms/step - loss: 0.2788 - accuracy: 0.9027 - val_loss: 0.2851 - val_accuracy: 0.9184\n",
      "Epoch 3/10\n",
      "118/118 [==============================] - 4s 32ms/step - loss: 0.1693 - accuracy: 0.9547 - val_loss: 0.1933 - val_accuracy: 0.9376\n",
      "Epoch 4/10\n",
      "118/118 [==============================] - 5s 38ms/step - loss: 0.1065 - accuracy: 0.9693 - val_loss: 0.1834 - val_accuracy: 0.9256\n",
      "Epoch 5/10\n",
      "118/118 [==============================] - 4s 32ms/step - loss: 0.0732 - accuracy: 0.9792 - val_loss: 0.2675 - val_accuracy: 0.9416\n",
      "Epoch 6/10\n",
      "118/118 [==============================] - 4s 32ms/step - loss: 0.0507 - accuracy: 0.9843 - val_loss: 0.2252 - val_accuracy: 0.9200\n",
      "Epoch 7/10\n",
      "118/118 [==============================] - 4s 32ms/step - loss: 0.0340 - accuracy: 0.9899 - val_loss: 0.2182 - val_accuracy: 0.9488\n",
      "Epoch 8/10\n",
      "118/118 [==============================] - 4s 32ms/step - loss: 0.0239 - accuracy: 0.9933 - val_loss: 0.2012 - val_accuracy: 0.9456\n",
      "Epoch 9/10\n",
      "118/118 [==============================] - 4s 32ms/step - loss: 0.0178 - accuracy: 0.9952 - val_loss: 0.5479 - val_accuracy: 0.9216\n",
      "Epoch 10/10\n",
      "118/118 [==============================] - 4s 33ms/step - loss: 0.0160 - accuracy: 0.9960 - val_loss: 0.3600 - val_accuracy: 0.9512\n"
     ]
    },
    {
     "data": {
      "text/plain": [
       "<tensorflow.python.keras.callbacks.History at 0x2133fbeb040>"
      ]
     },
     "execution_count": 26,
     "metadata": {},
     "output_type": "execute_result"
    }
   ],
   "source": [
    "model_rnn1.fit(x_train,y_train,\n",
    "              batch_size = batch_size,\n",
    "              epochs=10,\n",
    "              validation_data = (x_test, y_test)\n",
    "             )"
   ]
  },
  {
   "cell_type": "markdown",
   "id": "toxic-marsh",
   "metadata": {},
   "source": [
    "One sees that the simple RNN model has a __validation accuracy = 0.951__ and a __training accuracy = 0.996__. "
   ]
  },
  {
   "cell_type": "code",
   "execution_count": 27,
   "id": "psychological-fossil",
   "metadata": {},
   "outputs": [
    {
     "name": "stdout",
     "output_type": "stream",
     "text": [
      "WARNING:tensorflow:From <ipython-input-21-36ef87322bc2>:5: Sequential.predict_proba (from tensorflow.python.keras.engine.sequential) is deprecated and will be removed after 2021-01-01.\n",
      "Instructions for updating:\n",
      "Please use `model.predict()` instead.\n",
      "Simple RNN1 :\n",
      "\n",
      "              precision    recall  f1-score   support\n",
      "\n",
      "           0       0.96      0.85      0.90       336\n",
      "           1       0.95      0.99      0.97       914\n",
      "\n",
      "    accuracy                           0.95      1250\n",
      "   macro avg       0.95      0.92      0.94      1250\n",
      "weighted avg       0.95      0.95      0.95      1250\n",
      "\n",
      "Precision : 0.952\n",
      "Recall : 0.951\n",
      "ROC-AUC score : 0.978\n",
      "Accuracy : 0.951\n"
     ]
    },
    {
     "data": {
      "image/png": "[encoded data removed]",
      "text/plain": [
       "<Figure size 432x288 with 2 Axes>"
      ]
     },
     "metadata": {
      "needs_background": "light"
     },
     "output_type": "display_data"
    }
   ],
   "source": [
    "calc_scores(\"Simple RNN1\",model_rnn1)"
   ]
  },
  {
   "cell_type": "markdown",
   "id": "varying-guide",
   "metadata": {},
   "source": [
    "> One can see that the first base RNN model does a pretty good job in predicting the positive reviews with just *12 positive reviews wrongly predicted as negative*.    \n",
    "> However it predicts as many as *49 negative reviews wrongly as positive*.\n",
    "\n",
    "Let's see if the results improve with a LSTM Model"
   ]
  },
  {
   "cell_type": "markdown",
   "id": "spare-exemption",
   "metadata": {},
   "source": [
    "### Model 2 : LSTM\n",
    "Second Model would be a LSTM with 200 Hidden Layers. Vocabulary size would be the default words stored in the Tokenizer object of Keras.     \n",
    "Embedding size = 50"
   ]
  },
  {
   "cell_type": "code",
   "execution_count": 28,
   "id": "strategic-minutes",
   "metadata": {},
   "outputs": [],
   "source": [
    "model_lstm1 = Sequential()\n",
    "embedding_size = 50\n",
    "model_lstm1.add(Embedding(vocab_size,embedding_size, input_length=maxlen)) #This layer takes each integer in the sequence and embeds it in a 50-dimensional vector\n",
    "model_lstm1.add(LSTM(200))\n",
    "\n",
    "model_lstm1.add(Dense(1, activation='sigmoid'))"
   ]
  },
  {
   "cell_type": "code",
   "execution_count": 29,
   "id": "confirmed-freedom",
   "metadata": {},
   "outputs": [
    {
     "name": "stdout",
     "output_type": "stream",
     "text": [
      "Model: \"sequential_1\"\n",
      "_________________________________________________________________\n",
      "Layer (type)                 Output Shape              Param #   \n",
      "=================================================================\n",
      "embedding_1 (Embedding)      (None, 150, 50)           1149900   \n",
      "_________________________________________________________________\n",
      "lstm (LSTM)                  (None, 200)               200800    \n",
      "_________________________________________________________________\n",
      "dense_1 (Dense)              (None, 1)                 201       \n",
      "=================================================================\n",
      "Total params: 1,350,901\n",
      "Trainable params: 1,350,901\n",
      "Non-trainable params: 0\n",
      "_________________________________________________________________\n"
     ]
    }
   ],
   "source": [
    "model_lstm1.summary()"
   ]
  },
  {
   "cell_type": "code",
   "execution_count": 30,
   "id": "extraordinary-three",
   "metadata": {},
   "outputs": [],
   "source": [
    "model_lstm1.compile(loss='binary_crossentropy',\n",
    "                 optimizer=rmsprop,\n",
    "                 metrics=['accuracy'])"
   ]
  },
  {
   "cell_type": "code",
   "execution_count": 31,
   "id": "roman-basic",
   "metadata": {},
   "outputs": [
    {
     "name": "stdout",
     "output_type": "stream",
     "text": [
      "Epoch 1/10\n",
      "118/118 [==============================] - 16s 137ms/step - loss: 0.5967 - accuracy: 0.7261 - val_loss: 0.5764 - val_accuracy: 0.7312\n",
      "Epoch 2/10\n",
      "118/118 [==============================] - 18s 155ms/step - loss: 0.5753 - accuracy: 0.7315 - val_loss: 0.5590 - val_accuracy: 0.7312\n",
      "Epoch 3/10\n",
      "118/118 [==============================] - 19s 158ms/step - loss: 0.5643 - accuracy: 0.7315 - val_loss: 0.5733 - val_accuracy: 0.7312\n",
      "Epoch 4/10\n",
      "118/118 [==============================] - 19s 157ms/step - loss: 0.2864 - accuracy: 0.8813 - val_loss: 0.2374 - val_accuracy: 0.9192\n",
      "Epoch 5/10\n",
      "118/118 [==============================] - 18s 156ms/step - loss: 0.1497 - accuracy: 0.9539 - val_loss: 0.2032 - val_accuracy: 0.9424\n",
      "Epoch 6/10\n",
      "118/118 [==============================] - 18s 154ms/step - loss: 0.1079 - accuracy: 0.9661 - val_loss: 0.1728 - val_accuracy: 0.9528\n",
      "Epoch 7/10\n",
      "118/118 [==============================] - 19s 157ms/step - loss: 0.0810 - accuracy: 0.9760 - val_loss: 0.1713 - val_accuracy: 0.9480\n",
      "Epoch 8/10\n",
      "118/118 [==============================] - 18s 156ms/step - loss: 0.0599 - accuracy: 0.9845 - val_loss: 0.1789 - val_accuracy: 0.9560\n",
      "Epoch 9/10\n",
      "118/118 [==============================] - 19s 158ms/step - loss: 0.0527 - accuracy: 0.9885 - val_loss: 0.1547 - val_accuracy: 0.9600\n",
      "Epoch 10/10\n",
      "118/118 [==============================] - 19s 157ms/step - loss: 0.0363 - accuracy: 0.9901 - val_loss: 0.1205 - val_accuracy: 0.9624\n"
     ]
    },
    {
     "data": {
      "text/plain": [
       "<tensorflow.python.keras.callbacks.History at 0x21342fd5700>"
      ]
     },
     "execution_count": 31,
     "metadata": {},
     "output_type": "execute_result"
    }
   ],
   "source": [
    "model_lstm1.fit(x_train,y_train,\n",
    "              batch_size = batch_size,\n",
    "              epochs=10,\n",
    "              validation_data = (x_test, y_test)\n",
    "             )"
   ]
  },
  {
   "cell_type": "markdown",
   "id": "british-skating",
   "metadata": {},
   "source": [
    "One sees that the LSTM model has a __validation accuracy = 0.962__ and a __training accuracy = 0.990__. "
   ]
  },
  {
   "cell_type": "code",
   "execution_count": 32,
   "id": "empty-spread",
   "metadata": {},
   "outputs": [
    {
     "name": "stdout",
     "output_type": "stream",
     "text": [
      "LSTM200 :\n",
      "\n",
      "              precision    recall  f1-score   support\n",
      "\n",
      "           0       0.98      0.88      0.93       336\n",
      "           1       0.96      0.99      0.97       914\n",
      "\n",
      "    accuracy                           0.96      1250\n",
      "   macro avg       0.97      0.94      0.95      1250\n",
      "weighted avg       0.96      0.96      0.96      1250\n",
      "\n",
      "Precision : 0.963\n",
      "Recall : 0.962\n",
      "ROC-AUC score : 0.990\n",
      "Accuracy : 0.962\n"
     ]
    },
    {
     "data": {
      "image/png": "[encoded data removed]",
      "text/plain": [
       "<Figure size 432x288 with 2 Axes>"
      ]
     },
     "metadata": {
      "needs_background": "light"
     },
     "output_type": "display_data"
    }
   ],
   "source": [
    "calc_scores(\"LSTM200\",model_lstm1)"
   ]
  },
  {
   "cell_type": "markdown",
   "id": "novel-minister",
   "metadata": {},
   "source": [
    "> One can see that the first LSTM model does a better job than simple RNN in predicting the positive reviews with just *7 positive reviews wrongly predicted as negative*.    \n",
    "> It also predicts better than RNN with lesser *40 negative reviews wrongly as positive*."
   ]
  },
  {
   "cell_type": "code",
   "execution_count": 33,
   "id": "cutting-tongue",
   "metadata": {},
   "outputs": [
    {
     "data": {
      "text/html": [
       "<div>\n",
       "<style scoped>\n",
       "    .dataframe tbody tr th:only-of-type {\n",
       "        vertical-align: middle;\n",
       "    }\n",
       "\n",
       "    .dataframe tbody tr th {\n",
       "        vertical-align: top;\n",
       "    }\n",
       "\n",
       "    .dataframe thead th {\n",
       "        text-align: right;\n",
       "    }\n",
       "</style>\n",
       "<table border=\"1\" class=\"dataframe\">\n",
       "  <thead>\n",
       "    <tr style=\"text-align: right;\">\n",
       "      <th></th>\n",
       "      <th>Model</th>\n",
       "      <th>Precision</th>\n",
       "      <th>Recall</th>\n",
       "      <th>ROC-AUC score</th>\n",
       "      <th>Accuracy</th>\n",
       "    </tr>\n",
       "  </thead>\n",
       "  <tbody>\n",
       "    <tr>\n",
       "      <th>1</th>\n",
       "      <td>LSTM200</td>\n",
       "      <td>0.9629</td>\n",
       "      <td>0.9624</td>\n",
       "      <td>0.9895</td>\n",
       "      <td>0.9624</td>\n",
       "    </tr>\n",
       "    <tr>\n",
       "      <th>0</th>\n",
       "      <td>Simple RNN1</td>\n",
       "      <td>0.9515</td>\n",
       "      <td>0.9512</td>\n",
       "      <td>0.9783</td>\n",
       "      <td>0.9512</td>\n",
       "    </tr>\n",
       "  </tbody>\n",
       "</table>\n",
       "</div>"
      ],
      "text/plain": [
       "         Model Precision  Recall ROC-AUC score  Accuracy\n",
       "1      LSTM200    0.9629  0.9624        0.9895    0.9624\n",
       "0  Simple RNN1    0.9515  0.9512        0.9783    0.9512"
      ]
     },
     "execution_count": 33,
     "metadata": {},
     "output_type": "execute_result"
    }
   ],
   "source": [
    "scores_.sort_values(by='Precision', ascending=False)"
   ]
  },
  {
   "cell_type": "markdown",
   "id": "amber-estate",
   "metadata": {},
   "source": [
    "So one sees that the LSTM model does a better job than RNN in predicting the sentiments with a __higher roc-auc = 0.98 and a higher precision score = 0.96__."
   ]
  },
  {
   "cell_type": "code",
   "execution_count": null,
   "id": "revised-reward",
   "metadata": {},
   "outputs": [],
   "source": []
  }
 ],
 "metadata": {
  "kernelspec": {
   "display_name": "Python 3",
   "language": "python",
   "name": "python3"
  },
  "language_info": {
   "codemirror_mode": {
    "name": "ipython",
    "version": 3
   },
   "file_extension": ".py",
   "mimetype": "text/x-python",
   "name": "python",
   "nbconvert_exporter": "python",
   "pygments_lexer": "ipython3",
   "version": "3.8.8"
  }
 },
 "nbformat": 4,
 "nbformat_minor": 5
}
